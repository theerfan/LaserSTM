{
 "cells": [
  {
   "cell_type": "code",
   "execution_count": 1,
   "metadata": {},
   "outputs": [],
   "source": [
    "import torch\n",
    "import torch.nn as nn\n",
    "import numpy as np"
   ]
  },
  {
   "cell_type": "code",
   "execution_count": null,
   "metadata": {},
   "outputs": [],
   "source": [
    "class PINN(nn.Module):\n",
    "    def __init__(self, input_size, n_layers, hidden_size, output_size):\n",
    "        super(PINN, self).__init__()\n",
    "        self.input_size = input_size\n",
    "        self.n_layers = n_layers\n",
    "        self.hidden_size = hidden_size\n",
    "        self.output_size = output_size\n",
    "        self.layers = nn.ModuleList([nn.Linear(self.input_size, self.hidden_size)])\n",
    "        self.layers.extend([nn.Linear(self.hidden_size, self.hidden_size) for _ in range(self.n_layers - 2)])\n",
    "        self.layers.append(nn.Linear(self.hidden_size, self.output_size))\n",
    "        self.activation = nn.Tanh()\n",
    "        self.init_weights()\n",
    "    \n",
    "    def init_weights(self):\n",
    "        for layer in self.layers:\n",
    "            nn.init.xavier_uniform_(layer.weight)\n",
    "            nn.init.zeros_(layer.bias)\n",
    "    \n",
    "    def forward(self, x):\n",
    "        for layer in self.layers[:-1]:\n",
    "            x = self.activation(layer(x))\n",
    "        x = self.layers[-1](x)\n",
    "        return x"
   ]
  },
  {
   "cell_type": "code",
   "execution_count": 2,
   "metadata": {},
   "outputs": [],
   "source": [
    "freq_vectors_shg1 = np.load(\"Data/shg_freq_domain_ds.npy\")\n",
    "freq_vectors_shg2 = freq_vectors_shg1  # these are equivalent here\n",
    "freq_vectors_sfg = np.load(\"Data/sfg_freq_domain_ds.npy\")\n",
    "\n",
    "sfg_original_freq = np.load(\"Data/sfg_original_freq_vector.npy\")\n",
    "sfg_original_time = np.load(\"Data/sfg_original_time_vector.npy\")\n",
    "sfg_original_time_ds = sfg_original_time[1] - sfg_original_time[0]"
   ]
  },
  {
   "cell_type": "code",
   "execution_count": 6,
   "metadata": {},
   "outputs": [
    {
     "data": {
      "text/plain": [
       "array([-3.60477332, -3.59182647, -3.57887962, -3.56593277, -3.55298591,\n",
       "       -3.54003906, -3.52709221, -3.51414536, -3.50119851, -3.48825166,\n",
       "       -3.47530481, -3.46235795, -3.4494111 , -3.43646425, -3.4235174 ,\n",
       "       -3.41057055, -3.3976237 , -3.38467685, -3.37173   , -3.35878314,\n",
       "       -3.34583629, -3.33288944, -3.31994259, -3.30699574, -3.29404889,\n",
       "       -3.28110204, -3.26815518, -3.25520833, -3.24226148, -3.22931463,\n",
       "       -3.21636778, -3.20342093, -3.19047408, -3.17752723, -3.16458037,\n",
       "       -3.15163352, -3.13868667, -3.12573982, -3.11279297, -3.09984612,\n",
       "       -3.08689927, -3.07395241, -3.06100556, -3.04805871, -3.03511186,\n",
       "       -3.02216501, -3.00921816, -2.99627131, -2.98332446, -2.9703776 ,\n",
       "       -2.95743075, -2.9444839 , -2.93153705, -2.9185902 , -2.90564335,\n",
       "       -2.8926965 , -2.87974964, -2.86680279, -2.85385594, -2.84090909,\n",
       "       -2.82796224, -2.81501539, -2.80206854, -2.78912169, -2.77617483,\n",
       "       -2.76322798, -2.75028113, -2.73733428, -2.72438743, -2.71144058,\n",
       "       -2.69849373, -2.68554687, -2.67260002, -2.65965317, -2.64670632,\n",
       "       -2.63375947, -2.62081262, -2.60786577, -2.59491892, -2.58197206,\n",
       "       -2.56902521, -2.55607836, -2.54313151, -2.53018466, -2.51723781,\n",
       "       -2.50429096, -2.49134411, -2.47839725, -2.4654504 , -2.45250355,\n",
       "       -2.4395567 , -2.42660985, -2.413663  , -2.40071615, -2.38776929,\n",
       "       -2.37482244, -2.36187559, -2.34892874, -2.33598189, -2.32303504,\n",
       "       -2.31008819, -2.29714134, -2.28419448, -2.27124763, -2.25830078,\n",
       "       -2.24535393, -2.23240708, -2.21946023, -2.20651338, -2.19356652,\n",
       "       -2.18061967, -2.16767282, -2.15472597, -2.14177912, -2.12883227,\n",
       "       -2.11588542, -2.10293857, -2.08999171, -2.07704486, -2.06409801,\n",
       "       -2.05115116, -2.03820431, -2.02525746, -2.01231061, -1.99936375,\n",
       "       -1.9864169 , -1.97347005, -1.9605232 , -1.94757635, -1.9346295 ,\n",
       "       -1.92168265, -1.9087358 , -1.89578894, -1.88284209, -1.86989524,\n",
       "       -1.85694839, -1.84400154, -1.83105469, -1.81810784, -1.80516098,\n",
       "       -1.79221413, -1.77926728, -1.76632043, -1.75337358, -1.74042673,\n",
       "       -1.72747988, -1.71453303, -1.70158617, -1.68863932, -1.67569247,\n",
       "       -1.66274562, -1.64979877, -1.63685192, -1.62390507, -1.61095821,\n",
       "       -1.59801136, -1.58506451, -1.57211766, -1.55917081, -1.54622396,\n",
       "       -1.53327711, -1.52033026, -1.5073834 , -1.49443655, -1.4814897 ,\n",
       "       -1.46854285, -1.455596  , -1.44264915, -1.4297023 , -1.41675545,\n",
       "       -1.40380859, -1.39086174, -1.37791489, -1.36496804, -1.35202119,\n",
       "       -1.33907434, -1.32612749, -1.31318063, -1.30023378, -1.28728693,\n",
       "       -1.27434008, -1.26139323, -1.24844638, -1.23549953, -1.22255268,\n",
       "       -1.20960582, -1.19665897, -1.18371212, -1.17076527, -1.15781842,\n",
       "       -1.14487157, -1.13192472, -1.11897786, -1.10603101, -1.09308416,\n",
       "       -1.08013731, -1.06719046, -1.05424361, -1.04129676, -1.02834991,\n",
       "       -1.01540305, -1.0024562 , -0.98950935, -0.9765625 , -0.96361565,\n",
       "       -0.9506688 , -0.93772195, -0.92477509, -0.91182824, -0.89888139,\n",
       "       -0.88593454, -0.87298769, -0.86004084, -0.84709399, -0.83414714,\n",
       "       -0.82120028, -0.80825343, -0.79530658, -0.78235973, -0.76941288,\n",
       "       -0.75646603, -0.74351918, -0.73057232, -0.71762547, -0.70467862,\n",
       "       -0.69173177, -0.67878492, -0.66583807, -0.65289122, -0.63994437,\n",
       "       -0.62699751, -0.61405066, -0.60110381, -0.58815696, -0.57521011,\n",
       "       -0.56226326, -0.54931641, -0.53636955, -0.5234227 , -0.51047585,\n",
       "       -0.497529  , -0.48458215, -0.4716353 , -0.45868845, -0.4457416 ,\n",
       "       -0.43279474, -0.41984789, -0.40690104, -0.39395419, -0.38100734,\n",
       "       -0.36806049, -0.35511364, -0.34216679, -0.32921993, -0.31627308,\n",
       "       -0.30332623, -0.29037938, -0.27743253, -0.26448568, -0.25153883,\n",
       "       -0.23859197, -0.22564512, -0.21269827, -0.19975142, -0.18680457,\n",
       "       -0.17385772, -0.16091087, -0.14796402, -0.13501716, -0.12207031,\n",
       "       -0.10912346, -0.09617661, -0.08322976, -0.07028291, -0.05733606,\n",
       "       -0.0443892 , -0.03144235, -0.0184955 , -0.00554865,  0.0073982 ,\n",
       "        0.02034505,  0.0332919 ,  0.04623875,  0.05918561,  0.07213246,\n",
       "        0.08507931,  0.09802616,  0.11097301,  0.12391986,  0.13686671,\n",
       "        0.14981357,  0.16276042,  0.17570727,  0.18865412,  0.20160097,\n",
       "        0.21454782,  0.22749467,  0.24044152,  0.25338838,  0.26633523,\n",
       "        0.27928208,  0.29222893,  0.30517578,  0.31812263,  0.33106948,\n",
       "        0.34401634,  0.35696319,  0.36991004,  0.38285689,  0.39580374,\n",
       "        0.40875059,  0.42169744,  0.43464429,  0.44759115,  0.460538  ,\n",
       "        0.47348485,  0.4864317 ,  0.49937855,  0.5123254 ,  0.52527225,\n",
       "        0.53821911,  0.55116596,  0.56411281,  0.57705966,  0.59000651,\n",
       "        0.60295336,  0.61590021,  0.62884706,  0.64179392,  0.65474077,\n",
       "        0.66768762,  0.68063447,  0.69358132,  0.70652817,  0.71947502,\n",
       "        0.73242187,  0.74536873,  0.75831558,  0.77126243,  0.78420928,\n",
       "        0.79715613,  0.81010298,  0.82304983,  0.83599669,  0.84894354,\n",
       "        0.86189039,  0.87483724,  0.88778409])"
      ]
     },
     "execution_count": 6,
     "metadata": {},
     "output_type": "execute_result"
    }
   ],
   "source": [
    "freq_vectors_sfg * 1e-12"
   ]
  },
  {
   "cell_type": "code",
   "execution_count": 3,
   "metadata": {},
   "outputs": [],
   "source": [
    "from Analysis.util import change_domains, re_im_combined\n",
    "import pickle\n",
    "import os\n",
    "import h5py\n",
    "from types import SimpleNamespace\n",
    "from Utilz.loads import get_datasets"
   ]
  },
  {
   "cell_type": "code",
   "execution_count": 4,
   "metadata": {},
   "outputs": [],
   "source": [
    "data_directory = \"/mnt/oneterra/SFG_reIm_h5/\""
   ]
  },
  {
   "cell_type": "code",
   "execution_count": 5,
   "metadata": {},
   "outputs": [],
   "source": [
    "args = SimpleNamespace(data_dir=data_directory, train_load_mode=0, val_load_mode=0, test_load_mode=1, crystal_length=100)\n",
    "train_data, val_data, test_data = get_datasets(args)"
   ]
  },
  {
   "cell_type": "code",
   "execution_count": 6,
   "metadata": {},
   "outputs": [],
   "source": [
    "train_data_0  = train_data[0]\n",
    "# to give a fake batch size\n",
    "train_data_x_0 = train_data_0[0].unsqueeze(0)\n",
    "train_data_y_0 = train_data_0[1].unsqueeze(0)"
   ]
  },
  {
   "cell_type": "code",
   "execution_count": 15,
   "metadata": {},
   "outputs": [
    {
     "data": {
      "text/plain": [
       "torch.Size([1, 10, 8264])"
      ]
     },
     "execution_count": 15,
     "metadata": {},
     "output_type": "execute_result"
    }
   ],
   "source": [
    "train_data_x_0.shape"
   ]
  },
  {
   "cell_type": "code",
   "execution_count": 7,
   "metadata": {},
   "outputs": [],
   "source": [
    "one_sample = train_data_x_0[0, 0]"
   ]
  },
  {
   "cell_type": "code",
   "execution_count": 13,
   "metadata": {},
   "outputs": [],
   "source": [
    "shg1, shg2, sfg = re_im_combined(one_sample)\n",
    "sfg = sfg.cpu().numpy() \n",
    "shg1 = shg1.cpu().numpy()\n",
    "shg2 = shg2.cpu().numpy()"
   ]
  },
  {
   "cell_type": "code",
   "execution_count": 14,
   "metadata": {},
   "outputs": [
    {
     "name": "stdout",
     "output_type": "stream",
     "text": [
      "field type not supported\n",
      "field type not supported\n",
      "field type not supported\n"
     ]
    }
   ],
   "source": [
    "_, resampled_sfg = change_domains(domain=freq_vectors_sfg, field=sfg, new_domain=sfg_original_freq, domain_type=\"non\")\n",
    "_, resampled_shg1 = change_domains(domain=freq_vectors_shg1, field=shg1, new_domain=sfg_original_freq, domain_type=\"non\")\n",
    "_, resampled_shg2 = change_domains(domain=freq_vectors_shg2, field=shg2, new_domain=sfg_original_freq, domain_type=\"non\")"
   ]
  },
  {
   "cell_type": "code",
   "execution_count": 15,
   "metadata": {},
   "outputs": [
    {
     "data": {
      "text/plain": [
       "((32768,), (32768,), (32768,))"
      ]
     },
     "execution_count": 15,
     "metadata": {},
     "output_type": "execute_result"
    }
   ],
   "source": [
    "resampled_sfg.shape, resampled_shg1.shape, resampled_shg2.shape"
   ]
  },
  {
   "cell_type": "code",
   "execution_count": null,
   "metadata": {},
   "outputs": [],
   "source": []
  }
 ],
 "metadata": {
  "kernelspec": {
   "display_name": "pytorch",
   "language": "python",
   "name": "python3"
  },
  "language_info": {
   "codemirror_mode": {
    "name": "ipython",
    "version": 3
   },
   "file_extension": ".py",
   "mimetype": "text/x-python",
   "name": "python",
   "nbconvert_exporter": "python",
   "pygments_lexer": "ipython3",
   "version": "3.10.13"
  }
 },
 "nbformat": 4,
 "nbformat_minor": 2
}
